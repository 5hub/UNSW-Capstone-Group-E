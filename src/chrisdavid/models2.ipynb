{
 "cells": [
  {
   "cell_type": "code",
   "execution_count": 6,
   "metadata": {},
   "outputs": [],
   "source": [
    "import os, sys\n",
    "import pandas as pd\n",
    "import numpy as np\n",
    "from sklearn.ensemble import RandomForestRegressor\n",
    "from sklearn.model_selection import RandomizedSearchCV\n",
    "from sklearn.model_selection import train_test_split\n",
    "from sklearn.svm import LinearSVR\n",
    "from sklearn.metrics import mean_squared_error\n",
    "import math\n",
    "from datetime import datetime, timedelta\n",
    "\n",
    "# Set path to current directory\n",
    "#sys.path.append(os.path.abspath(os.getcwd()))\n",
    "\n",
    "# Change as required\n",
    "os.chdir('F:/Users/Dave/Desktop/UNSW-Capstone-Group-E/src/chrisdavid')\n",
    "\n",
    "# Load data and split target and features\n",
    "\n",
    "# Set this to the percentage of the full data file we want to use. Smaller percentages will reduce computation time for testing\n",
    "#PROPORTION = 1\n",
    "\n",
    "#Random state for repeatable runs\n",
    "STATE = 42\n",
    "\n",
    "data = pd.read_csv('./Cleaned_Data_mkII.csv')\n",
    "#data = data[data['STATE'] == 'NSW'] # We are only looking at NSW here\n",
    "\n",
    "#data = data.sample(frac = PROPORTION)\n",
    "\n",
    "data['DATETIME'] = pd.to_datetime(data['DATETIME'])\n",
    "\n"
   ]
  },
  {
   "cell_type": "code",
   "execution_count": 7,
   "metadata": {},
   "outputs": [],
   "source": [
    "#data['DATETIME'] = data['DATETIME'].dt.floor(freq='4H')\n",
    "data = data.groupby('DATETIME').agg({'TEMPERATURE':'mean',\n",
    "                                'TOTALDEMAND':'mean'}).reset_index()"
   ]
  },
  {
   "cell_type": "code",
   "execution_count": 8,
   "metadata": {
    "pycharm": {
     "name": "#%%\n"
    }
   },
   "outputs": [],
   "source": [
    "weather = pd.read_csv('weather.csv')\n",
    "\n",
    "weather['DATE'] = pd.to_datetime(weather[['Year','Month','Day']]).dt.date\n",
    "\n",
    "weather.columns = ['drop1','drop2','drop3','drop4','drop5','rain','drop6','drop7','DAY']\n",
    "weather = weather[['DAY','rain']]\n",
    "\n",
    "weather['rain'].fillna(method='ffill', inplace=True)\n",
    "weather['RAIN'] = pd.cut(weather['rain'],bins=[-1,0.2,4,10,999999],labels=['NONE','LIGHT','MODERATE','HEAVY'])\n",
    "\n",
    "weather_dummy = pd.get_dummies(weather,columns=['RAIN'])\n",
    "\n",
    "\n",
    "\n",
    "\n"
   ]
  },
  {
   "cell_type": "code",
   "execution_count": 9,
   "metadata": {},
   "outputs": [],
   "source": [
    "# Dummy coding for states\n",
    "# Not needed because states not used\n",
    "\n",
    "data['DAY'] = data['DATETIME'].dt.date\n",
    "data['DAILY_MAX_TEMP'] = data.groupby('DAY')['TEMPERATURE'].transform('max')\n",
    "\n",
    "data = data.merge(weather_dummy, on='DAY')\n",
    "\n",
    "\n"
   ]
  },
  {
   "cell_type": "code",
   "execution_count": 10,
   "metadata": {
    "pycharm": {
     "name": "#%%\n"
    }
   },
   "outputs": [],
   "source": [
    "#def get_delay_temp(row, delay):\n",
    "#    delay_date = row['DATE_SAVE'] - timedelta(hours=delay)\n",
    "#    try:\n",
    "#        return data.loc[delay_date]['TOTALDEMAND']\n",
    "#    except KeyError:\n",
    "#        return 0\n",
    "\n",
    "#data['DATE_SAVE'] = data['DATETIME']\n",
    "#data.set_index('DATETIME', inplace=True)\n",
    "\n",
    "#data['DEMAND_4HOURDELAY'] = data.apply(get_delay_temp, delay=4, axis=1)\n",
    "#data['DEMAND_8HOURDELAY'] = data.apply(get_delay_temp, delay=8, axis=1)\n",
    "#data['DEMAND_24HOURDELAY'] = data.apply(get_delay_temp, delay=24, axis=1)\n",
    "#data.reset_index(inplace=True)\n",
    "\n",
    "\n",
    "features = data[['TEMPERATURE','DAILY_MAX_TEMP','RAIN_NONE','RAIN_LIGHT','RAIN_MODERATE','RAIN_HEAVY']]\n",
    "target = data['TOTALDEMAND']\n",
    "\n"
   ]
  },
  {
   "cell_type": "code",
   "execution_count": null,
   "metadata": {},
   "outputs": [],
   "source": [
    "features"
   ]
  },
  {
   "cell_type": "code",
   "execution_count": 11,
   "metadata": {
    "pycharm": {
     "name": "#%%\n"
    }
   },
   "outputs": [],
   "source": [
    "# Convert to numpy arrays and split training/test data\n",
    "\n",
    "features_np = pd.DataFrame(features).to_numpy()\n",
    "target_np = np.ravel(pd.DataFrame(target).to_numpy())\n",
    "\n",
    "features_train, features_test, target_train, target_test = train_test_split(features_np, target_np, random_state= STATE)"
   ]
  },
  {
   "cell_type": "code",
   "execution_count": 12,
   "metadata": {
    "pycharm": {
     "name": "#%%\n"
    }
   },
   "outputs": [
    {
     "name": "stderr",
     "output_type": "stream",
     "text": [
      "C:\\ProgramData\\Anaconda3\\lib\\site-packages\\sklearn\\ensemble\\forest.py:246: FutureWarning: The default value of n_estimators will change from 10 in version 0.20 to 100 in 0.22.\n",
      "  \"10 in version 0.20 to 100 in 0.22.\", FutureWarning)\n",
      "C:\\ProgramData\\Anaconda3\\lib\\site-packages\\sklearn\\utils\\fixes.py:357: DeprecationWarning: distutils Version classes are deprecated. Use packaging.version instead.\n",
      "  if _joblib.__version__ >= LooseVersion('0.12'):\n",
      "C:\\ProgramData\\Anaconda3\\lib\\site-packages\\sklearn\\ensemble\\base.py:158: DeprecationWarning: `np.int` is a deprecated alias for the builtin `int`. To silence this warning, use `int` by itself. Doing this will not modify any behavior and is safe. When replacing `np.int`, you may wish to use e.g. `np.int64` or `np.int32` to specify the precision. If you wish to review your current use, check the release note link for additional information.\n",
      "Deprecated in NumPy 1.20; for more details and guidance: https://numpy.org/devdocs/release/1.20.0-notes.html#deprecations\n",
      "  dtype=np.int)\n",
      "C:\\ProgramData\\Anaconda3\\lib\\site-packages\\sklearn\\utils\\fixes.py:357: DeprecationWarning: distutils Version classes are deprecated. Use packaging.version instead.\n",
      "  if _joblib.__version__ >= LooseVersion('0.12'):\n"
     ]
    }
   ],
   "source": [
    "# Implement Random Forest\n",
    "# TODO: Make it better\n",
    "\n",
    "#Hyperparameter tuning grid\n",
    "\n",
    "rnd_clf = RandomForestRegressor(random_state = STATE)\n",
    "rnd_clf.fit(features_train, target_train)\n",
    "\n",
    "rf_predicted = rnd_clf.predict(features_test)\n",
    "#rf_diff = target_test - rf_predicted\n"
   ]
  },
  {
   "cell_type": "code",
   "execution_count": null,
   "metadata": {},
   "outputs": [],
   "source": [
    "rf_diff"
   ]
  },
  {
   "cell_type": "code",
   "execution_count": 13,
   "metadata": {
    "pycharm": {
     "name": "#%%\n"
    }
   },
   "outputs": [],
   "source": [
    "# Implement Support Vector Machine Regressor\n",
    "# TODO: Make it better\n",
    "\n",
    "svm_reg = LinearSVR(epsilon=1.5)\n",
    "svm_reg.fit(features_train, target_train)\n",
    "svm_predicted = svm_reg.predict(features_test)"
   ]
  },
  {
   "cell_type": "code",
   "execution_count": 14,
   "metadata": {
    "pycharm": {
     "name": "#%%\n"
    }
   },
   "outputs": [
    {
     "name": "stdout",
     "output_type": "stream",
     "text": [
      "Random Forest Error:  1127\n",
      "SVM Error:  1297\n"
     ]
    }
   ],
   "source": [
    "# Calculate RMSE for each model and benchmark\n",
    "# Lower = better model\n",
    "\n",
    "rf_error = round(math.sqrt(mean_squared_error(target_test, rf_predicted)))\n",
    "svm_error = round(math.sqrt(mean_squared_error(target_test, svm_predicted)))\n",
    "#benchmark_error = round(math.sqrt(mean_squared_error(data['TOTALDEMAND'], data['FORECASTDEMAND'])))\n",
    "\n",
    "print(\"Random Forest Error: \", rf_error)\n",
    "print(\"SVM Error: \", svm_error)\n",
    "#print(\"Benchmark Error: \", benchmark_error)"
   ]
  },
  {
   "cell_type": "code",
   "execution_count": null,
   "metadata": {
    "pycharm": {
     "name": "#%%\n"
    }
   },
   "outputs": [],
   "source": []
  }
 ],
 "metadata": {
  "kernelspec": {
   "display_name": "Python 3",
   "language": "python",
   "name": "python3"
  },
  "language_info": {
   "codemirror_mode": {
    "name": "ipython",
    "version": 3
   },
   "file_extension": ".py",
   "mimetype": "text/x-python",
   "name": "python",
   "nbconvert_exporter": "python",
   "pygments_lexer": "ipython3",
   "version": "3.7.3"
  }
 },
 "nbformat": 4,
 "nbformat_minor": 1
}
