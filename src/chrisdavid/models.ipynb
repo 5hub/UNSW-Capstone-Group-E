{
 "cells": [
  {
   "cell_type": "code",
   "execution_count": 23,
   "metadata": {
    "collapsed": true
   },
   "outputs": [],
   "source": [
    "import os, sys\n",
    "import pandas as pd\n",
    "import numpy as np\n",
    "from sklearn.ensemble import RandomForestRegressor\n",
    "from sklearn.model_selection import RandomizedSearchCV\n",
    "from sklearn.model_selection import train_test_split\n",
    "from sklearn.svm import LinearSVR\n",
    "from sklearn.metrics import mean_squared_error\n",
    "import math\n",
    "from datetime import datetime, timedelta\n",
    "\n",
    "# Set path to current directory\n",
    "sys.path.append(os.path.abspath(os.getcwd()))"
   ]
  },
  {
   "cell_type": "code",
   "execution_count": 24,
   "outputs": [],
   "source": [
    "# Load data and split target and features\n",
    "\n",
    "# Set this to the percentage of the full data file we want to use. Smaller percentages will reduce computation time for testing\n",
    "PROPORTION = 1\n",
    "#Random state for repeatable runs\n",
    "STATE = 42\n",
    "\n",
    "data = pd.read_csv('./full_data.csv', index_col=0)\n",
    "data = data[data['STATE'] == 'NSW'] # We are only looking at NSW here\n",
    "\n",
    "data = data.sample(frac = PROPORTION)\n",
    "\n",
    "data['DATE'] = pd.to_datetime(data['TIMESTAMP'])\n",
    "\n",
    "data['DATE'] = data['DATE'].dt.floor(freq='4H')\n",
    "data = data.groupby('DATE').agg({'FORECASTDEMAND':'mean',\n",
    "                                'TEMPERATURE':'mean',\n",
    "                                'TOTALDEMAND':'mean'}).reset_index()\n",
    "\n"
   ],
   "metadata": {
    "collapsed": false,
    "pycharm": {
     "name": "#%%\n"
    }
   }
  },
  {
   "cell_type": "code",
   "execution_count": 25,
   "outputs": [],
   "source": [
    "weather = pd.read_csv('weather.csv')\n",
    "\n",
    "weather['DATE'] = pd.to_datetime(weather[['Year','Month','Day']]).dt.date\n",
    "weather.columns = ['drop1','drop2','drop3','drop4','drop5','rain','drop6','drop7','DAY']\n",
    "weather = weather[['DAY','rain']]\n",
    "weather['rain'].fillna(method='ffill', inplace=True)\n",
    "weather['RAIN'] = pd.cut(weather['rain'],bins=[-1,0.2,4,10,999999],labels=['NONE','LIGHT','MODERATE','HEAVY'])\n",
    "\n",
    "weather_dummy = pd.get_dummies(weather,columns=['RAIN'])\n"
   ],
   "metadata": {
    "collapsed": false,
    "pycharm": {
     "name": "#%%\n"
    }
   }
  },
  {
   "cell_type": "code",
   "execution_count": 26,
   "outputs": [],
   "source": [
    "# Dummy coding for states\n",
    "# Not needed because states not used\n",
    "\n",
    "def get_delay_temp(row, delay):\n",
    "    delay_date = row['DATE_SAVE'] - timedelta(hours=delay)\n",
    "    try:\n",
    "        return data.loc[delay_date]['TOTALDEMAND']\n",
    "    except KeyError:\n",
    "        return 0\n",
    "\n",
    "data['DAY'] = data['DATE'].dt.date\n",
    "data['DAILY_MAX_TEMP'] = data.groupby('DAY')['TEMPERATURE'].transform('max')\n",
    "\n",
    "data = data.merge(weather_dummy, on='DAY')\n",
    "\n",
    "data['DATE_SAVE'] = data['DATE']\n",
    "data.set_index('DATE', inplace=True)\n",
    "\n",
    "data['DEMAND_4HOURDELAY'] = data.apply(get_delay_temp, delay=4, axis=1)\n",
    "data['DEMAND_8HOURDELAY'] = data.apply(get_delay_temp, delay=8, axis=1)\n",
    "data['DEMAND_24HOURDELAY'] = data.apply(get_delay_temp, delay=24, axis=1)\n",
    "\n",
    "data.reset_index(inplace=True)\n",
    "\n",
    "\n",
    "features = data[['TEMPERATURE','DAILY_MAX_TEMP','RAIN_NONE','RAIN_LIGHT','RAIN_MODERATE','RAIN_HEAVY','DEMAND_4HOURDELAY','DEMAND_8HOURDELAY','DEMAND_24HOURDELAY']]\n",
    "target = data['TOTALDEMAND']\n",
    "\n"
   ],
   "metadata": {
    "collapsed": false,
    "pycharm": {
     "name": "#%%\n"
    }
   }
  },
  {
   "cell_type": "code",
   "execution_count": 27,
   "outputs": [],
   "source": [
    "# Convert to numpy arrays and split training/test data\n",
    "\n",
    "features_np = pd.DataFrame(features).to_numpy()\n",
    "target_np = np.ravel(pd.DataFrame(target).to_numpy())\n",
    "\n",
    "features_train, features_test, target_train, target_test = train_test_split(features_np, target_np, random_state= STATE)"
   ],
   "metadata": {
    "collapsed": false,
    "pycharm": {
     "name": "#%%\n"
    }
   }
  },
  {
   "cell_type": "code",
   "execution_count": 28,
   "outputs": [],
   "source": [
    "# Implement Random Forest\n",
    "# TODO: Make it better\n",
    "\n",
    "#Hyperparameter tuning grid\n",
    "\n",
    "rnd_clf = RandomForestRegressor(random_state = STATE)\n",
    "rnd_clf.fit(features_train, target_train)\n",
    "\n",
    "rf_predicted = rnd_clf.predict(features_test)\n",
    "\n"
   ],
   "metadata": {
    "collapsed": false,
    "pycharm": {
     "name": "#%%\n"
    }
   }
  },
  {
   "cell_type": "code",
   "execution_count": 29,
   "outputs": [
    {
     "name": "stderr",
     "output_type": "stream",
     "text": [
      "C:\\ProgramData\\Anaconda3\\lib\\site-packages\\sklearn\\svm\\_base.py:985: ConvergenceWarning: Liblinear failed to converge, increase the number of iterations.\n",
      "  warnings.warn(\"Liblinear failed to converge, increase \"\n"
     ]
    }
   ],
   "source": [
    "# Implement Support Vector Machine Regressor\n",
    "# TODO: Make it better\n",
    "\n",
    "svm_reg = LinearSVR(epsilon=1.5)\n",
    "svm_reg.fit(features_train, target_train)\n",
    "svm_predicted = svm_reg.predict(features_test)"
   ],
   "metadata": {
    "collapsed": false,
    "pycharm": {
     "name": "#%%\n"
    }
   }
  },
  {
   "cell_type": "code",
   "execution_count": 30,
   "outputs": [
    {
     "name": "stdout",
     "output_type": "stream",
     "text": [
      "Random Forest Error:  458\n",
      "SVM Error:  896\n",
      "Benchmark Error:  755\n"
     ]
    }
   ],
   "source": [
    "# Calculate RMSE for each model and benchmark\n",
    "# Lower = better model\n",
    "\n",
    "rf_error = round(math.sqrt(mean_squared_error(target_test, rf_predicted)))\n",
    "svm_error = round(math.sqrt(mean_squared_error(target_test, svm_predicted)))\n",
    "benchmark_error = round(math.sqrt(mean_squared_error(data['TOTALDEMAND'], data['FORECASTDEMAND'])))\n",
    "\n",
    "print(\"Random Forest Error: \", rf_error)\n",
    "print(\"SVM Error: \", svm_error)\n",
    "print(\"Benchmark Error: \", benchmark_error)"
   ],
   "metadata": {
    "collapsed": false,
    "pycharm": {
     "name": "#%%\n"
    }
   }
  },
  {
   "cell_type": "code",
   "execution_count": 30,
   "outputs": [],
   "source": [],
   "metadata": {
    "collapsed": false,
    "pycharm": {
     "name": "#%%\n"
    }
   }
  }
 ],
 "metadata": {
  "kernelspec": {
   "display_name": "Python 3",
   "language": "python",
   "name": "python3"
  },
  "language_info": {
   "codemirror_mode": {
    "name": "ipython",
    "version": 2
   },
   "file_extension": ".py",
   "mimetype": "text/x-python",
   "name": "python",
   "nbconvert_exporter": "python",
   "pygments_lexer": "ipython2",
   "version": "2.7.6"
  }
 },
 "nbformat": 4,
 "nbformat_minor": 0
}