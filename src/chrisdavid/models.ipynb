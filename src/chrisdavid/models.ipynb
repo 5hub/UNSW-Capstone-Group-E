{
 "cells": [
  {
   "cell_type": "code",
   "execution_count": 3,
   "metadata": {
    "collapsed": true
   },
   "outputs": [],
   "source": [
    "import os, sys\n",
    "import pandas as pd\n",
    "import numpy as np\n",
    "from sklearn.ensemble import RandomForestRegressor\n",
    "from sklearn.model_selection import train_test_split\n",
    "from sklearn.svm import LinearSVR\n",
    "from sklearn.metrics import mean_squared_error\n",
    "import math\n",
    "\n",
    "# Set path to current directory\n",
    "sys.path.append(os.path.abspath(os.getcwd()))"
   ]
  },
  {
   "cell_type": "code",
   "execution_count": 4,
   "outputs": [],
   "source": [
    "# Load data and split target and features\n",
    "\n",
    "data = pd.read_csv('../data/full_data.csv', index_col=0)\n",
    "features = data.iloc[:, 1 : -1 ]\n",
    "target = data.iloc[:,  -1 ]"
   ],
   "metadata": {
    "collapsed": false,
    "pycharm": {
     "name": "#%%\n"
    }
   }
  },
  {
   "cell_type": "code",
   "execution_count": 5,
   "outputs": [],
   "source": [
    "# Dummy coding for states\n",
    "\n",
    "features = pd.get_dummies(features,columns=['STATE'])\n",
    "features = features[['TEMPERATURE','STATE_NSW','STATE_VIC','STATE_QLD','STATE_SA']]\n"
   ],
   "metadata": {
    "collapsed": false,
    "pycharm": {
     "name": "#%%\n"
    }
   }
  },
  {
   "cell_type": "code",
   "execution_count": null,
   "outputs": [],
   "source": [
    "# Convert to numpy arrays and split training/test data\n",
    "\n",
    "features_np = pd.DataFrame(features).to_numpy()\n",
    "target_np = np.ravel(pd.DataFrame(target).to_numpy())\n",
    "\n",
    "features_train, features_test, target_train, target_test = train_test_split(features_np, target_np, random_state=42)"
   ],
   "metadata": {
    "collapsed": false,
    "pycharm": {
     "name": "#%%\n"
    }
   }
  },
  {
   "cell_type": "code",
   "execution_count": 6,
   "outputs": [],
   "source": [
    "# Implement Random Forest\n",
    "# TODO: Make it better\n",
    "\n",
    "rnd_clf = RandomForestRegressor()\n",
    "rnd_clf.fit(features_train, target_train)\n",
    "rf_predicted = rnd_clf.predict(features_test)\n",
    "\n"
   ],
   "metadata": {
    "collapsed": false,
    "pycharm": {
     "name": "#%%\n"
    }
   }
  },
  {
   "cell_type": "code",
   "execution_count": 7,
   "outputs": [],
   "source": [
    "# Implement Support Vector Machine Regressor\n",
    "# TODO: Make it better\n",
    "\n",
    "svm_reg = LinearSVR(epsilon=1.5)\n",
    "svm_reg.fit(features_train, target_train)\n",
    "svm_predicted = svm_reg.predict(features_test)"
   ],
   "metadata": {
    "collapsed": false,
    "pycharm": {
     "name": "#%%\n"
    }
   }
  },
  {
   "cell_type": "code",
   "execution_count": 14,
   "outputs": [],
   "source": [
    "# Calculate RMSE for each model and benchmark\n",
    "# Lower = better model\n",
    "\n",
    "rf_error = round(math.sqrt(mean_squared_error(target_test, rf_predicted)))\n",
    "svm_error = round(math.sqrt(mean_squared_error(target_test, svm_predicted)))\n",
    "benchmark_error = round(math.sqrt(mean_squared_error(data['TOTALDEMAND'], data['FORECASTDEMAND'])))\n",
    "\n",
    "print(\"Random Forest Error: \", rf_error)\n",
    "print(\"SVM Error: \", svm_error)\n",
    "print(\"Benchmark Error: \", benchmark_error)"
   ],
   "metadata": {
    "collapsed": false,
    "pycharm": {
     "name": "#%%\n"
    }
   }
  }
 ],
 "metadata": {
  "kernelspec": {
   "display_name": "Python 3",
   "language": "python",
   "name": "python3"
  },
  "language_info": {
   "codemirror_mode": {
    "name": "ipython",
    "version": 2
   },
   "file_extension": ".py",
   "mimetype": "text/x-python",
   "name": "python",
   "nbconvert_exporter": "python",
   "pygments_lexer": "ipython2",
   "version": "2.7.6"
  }
 },
 "nbformat": 4,
 "nbformat_minor": 0
}