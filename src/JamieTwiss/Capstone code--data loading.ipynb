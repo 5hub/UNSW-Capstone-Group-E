{
 "cells": [
  {
   "cell_type": "code",
   "execution_count": 21,
   "id": "5ca7b3cf",
   "metadata": {},
   "outputs": [
    {
     "name": "stdout",
     "output_type": "stream",
     "text": [
      "    LOCATION       DATETIME  TEMPERATURE State\n",
      "0  Bankstown  1/1/2010 0:00         23.1   NSW\n",
      "1  Bankstown  1/1/2010 0:01         23.1   NSW\n",
      "2  Bankstown  1/1/2010 0:30         22.9   NSW\n",
      "3  Bankstown  1/1/2010 0:50         22.7   NSW\n",
      "4  Bankstown  1/1/2010 1:00         22.6   NSW\n",
      "(778177, 4)\n",
      "        DATETIME  TOTALDEMAND REGIONID State\n",
      "0  1/1/2010 0:00      8038.00     NSW1   NSW\n",
      "1  1/1/2010 0:30      7809.31     NSW1   NSW\n",
      "2  1/1/2010 1:00      7483.69     NSW1   NSW\n",
      "3  1/1/2010 1:30      7117.23     NSW1   NSW\n",
      "4  1/1/2010 2:00      6812.03     NSW1   NSW\n",
      "(786051, 4)\n",
      "   PREDISPATCHSEQNO REGIONID  PERIODID  FORECASTDEMAND          LASTCHANGED  \\\n",
      "0        2009123018     NSW1        71         7832.04  2009-12-30 12:31:49   \n",
      "1        2009123019     NSW1        70         7832.04  2009-12-30 13:01:43   \n",
      "2        2009123020     NSW1        69         7832.03  2009-12-30 13:31:36   \n",
      "3        2009123021     NSW1        68         7832.03  2009-12-30 14:01:44   \n",
      "4        2009123022     NSW1        67         7830.96  2009-12-30 14:31:35   \n",
      "\n",
      "              DATETIME State  \n",
      "0  2010-01-01 00:00:00   NSW  \n",
      "1  2010-01-01 00:00:00   NSW  \n",
      "2  2010-01-01 00:00:00   NSW  \n",
      "3  2010-01-01 00:00:00   NSW  \n",
      "4  2010-01-01 00:00:00   NSW  \n",
      "(23192795, 7)\n"
     ]
    }
   ],
   "source": [
    "import pandas as pd\n",
    "\n",
    "\n",
    "\n",
    "temp_nsw = pd.read_csv('temperature_nsw.csv')\n",
    "temp_vic = pd.read_csv('temprature_vic.csv')\n",
    "temp_qld = pd.read_csv('temprature_qld.csv')\n",
    "temp_sa = pd.read_csv('temprature_sa.csv', index_col=[0])\n",
    "\n",
    "temp_nsw['State'] = 'NSW'\n",
    "temp_vic['State'] = 'VIC'\n",
    "temp_qld['State'] = 'QLD'\n",
    "temp_sa['State'] = 'SA'\n",
    "\n",
    "temp = pd.concat([temp_nsw, temp_vic, temp_qld, temp_sa],ignore_index = True)\n",
    "\n",
    "print(temp.head())\n",
    "print(temp.shape)\n",
    "\n",
    "tot_dem_nsw = pd.read_csv('totaldemand_nsw.csv')\n",
    "tot_dem_vic = pd.read_csv('totaldemand_vic.csv')\n",
    "tot_dem_qld = pd.read_csv('totaldemand_qld.csv')\n",
    "tot_dem_sa = pd.read_csv('totaldemand_sa.csv')\n",
    "\n",
    "tot_dem_nsw['State'] = 'NSW'\n",
    "tot_dem_vic['State'] = 'VIC'\n",
    "tot_dem_qld['State'] = 'QLD'\n",
    "tot_dem_sa['State'] = 'SA'\n",
    "\n",
    "tot_dem = pd.concat([tot_dem_nsw, tot_dem_vic, tot_dem_qld, tot_dem_sa],ignore_index = True)\n",
    "\n",
    "print(tot_dem.head())\n",
    "print(tot_dem.shape)\n",
    "\n",
    "for_dem_nsw = pd.read_csv('forecastdemand_nsw.csv')\n",
    "for_dem_vic = pd.read_csv('forecastdemand_vic.csv')\n",
    "for_dem_qld = pd.read_csv('forecastdemand_qld.csv')\n",
    "for_dem_sa = pd.read_csv('forecastdemand_sa.csv')\n",
    "\n",
    "for_dem_nsw['State'] = 'NSW'\n",
    "for_dem_vic['State'] = 'VIC'\n",
    "for_dem_qld['State'] = 'QLD'\n",
    "for_dem_sa['State'] = 'SA'\n",
    "\n",
    "for_dem = pd.concat([for_dem_nsw, for_dem_vic, for_dem_qld, for_dem_sa],ignore_index = True)\n",
    "\n",
    "print(for_dem.head())\n",
    "print(for_dem.shape)\n"
   ]
  },
  {
   "cell_type": "code",
   "execution_count": null,
   "id": "de83f605",
   "metadata": {},
   "outputs": [],
   "source": []
  }
 ],
 "metadata": {
  "kernelspec": {
   "display_name": "Python 3",
   "language": "python",
   "name": "python3"
  },
  "language_info": {
   "codemirror_mode": {
    "name": "ipython",
    "version": 3
   },
   "file_extension": ".py",
   "mimetype": "text/x-python",
   "name": "python",
   "nbconvert_exporter": "python",
   "pygments_lexer": "ipython3",
   "version": "3.8.8"
  }
 },
 "nbformat": 4,
 "nbformat_minor": 5
}
