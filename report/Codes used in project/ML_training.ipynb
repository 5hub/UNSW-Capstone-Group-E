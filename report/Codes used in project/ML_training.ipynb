{
 "cells": [
  {
   "cell_type": "markdown",
   "metadata": {},
   "source": [
    "We would like to explore Random Forest Regressors and Support Vector Machines along with some input variables to see if we can make a model that accurately forecasts energy demand. We aim to achieve better results than the forecast models provided that similarly forecast energy menand 30 minutes in advasnce. This was calculated as having a mean average error of 62."
   ]
  },
  {
   "cell_type": "code",
   "execution_count": 1,
   "metadata": {},
   "outputs": [
    {
     "name": "stderr",
     "output_type": "stream",
     "text": [
      "C:\\ProgramData\\Anaconda3\\lib\\site-packages\\pandas\\compat\\_optional.py:138: UserWarning: Pandas requires version '2.7.0' or newer of 'numexpr' (version '2.6.9' currently installed).\n",
      "  warnings.warn(msg, UserWarning)\n",
      "Failed to import duecredit due to No module named 'duecredit'\n"
     ]
    }
   ],
   "source": [
    "# Import libraries\n",
    "from warnings import filterwarnings\n",
    "import os, sys\n",
    "import pandas as pd\n",
    "import numpy as np\n",
    "from sklearn.ensemble import RandomForestRegressor\n",
    "from sklearn.model_selection import RandomizedSearchCV\n",
    "from sklearn.model_selection import GridSearchCV\n",
    "from sklearn.model_selection import train_test_split\n",
    "from sklearn.metrics import make_scorer\n",
    "from sklearn.metrics import mean_absolute_error\n",
    "import math\n",
    "from pprint import pprint\n",
    "from datetime import datetime, timedelta\n",
    "from sklearn.svm import SVR\n",
    "from matplotlib import pyplot as plt\n",
    "import forestci as fci\n",
    "from sklearn.feature_selection import mutual_info_regression  \n",
    "from sklearn.feature_selection import SelectKBest\n",
    "\n",
    "# Suppress annoying deprecation warnings\n",
    "filterwarnings(action='ignore', category=DeprecationWarning, module='sklearn')\n",
    "\n",
    "# Update working directory\n",
    "sys.path.append(os.path.abspath(os.getcwd()))\n",
    "\n",
    "# read data\n",
    "data = pd.read_csv('./Cleaned_Data.csv')\n",
    "\n",
    "# Set random state\n",
    "STATE = 20\n",
    "\n",
    "# Makes sure datetime is in datetime format\n",
    "data['DATETIME'] = pd.to_datetime(data['DATETIME'])\n",
    "\n",
    "# We want to test a time column as an input\n",
    "data['time'] = (data['DATETIME'].dt.strftime(\"%H%M%S\"))\n",
    "\n",
    "# Also would like to test demand and tmeperature 30 and 60 mins before the current time as input\n",
    "data['demand_30'] = data.TOTALDEMAND.shift(1)\n",
    "data['demand_60'] = data.TOTALDEMAND.shift(2)\n",
    "\n",
    "data['temp_30'] = data.TEMPERATURE.shift(1)\n",
    "data['temp_60'] = data.TEMPERATURE.shift(2)\n",
    "\n",
    "# Select data from 2016-2021\n",
    "mask = (data['DATETIME'] >= '2016-01-01') & (data['DATETIME'] < '2021-01-01')\n",
    "data = data.loc[mask]\n",
    "\n",
    "# And an indictor if it is a weekend or not\n",
    "data['is_weekday'] = data['DATETIME'].dt.weekday\n",
    "data['is_weekday'] = np.where(data['is_weekday'] < 5, 1, 0)\n",
    "\n",
    "# Create day column in data and merge using it\n",
    "data['date'] = data['DATETIME'].dt.date\n",
    "\n",
    "# Create day and month columns\n",
    "data['day'] = data['DATETIME'].dt.day\n",
    "data['month'] = data['DATETIME'].dt.month"
   ]
  },
  {
   "cell_type": "markdown",
   "metadata": {},
   "source": [
    "After creating a data frame with all of the features that we deem potentially interesting, we would like to evaluate their suitability for use in a random forest regressor. To do feature selection we will use mutual information (information gain of each input in relation to the output variable) as a selection metric."
   ]
  },
  {
   "cell_type": "code",
   "execution_count": 2,
   "metadata": {},
   "outputs": [
    {
     "name": "stdout",
     "output_type": "stream",
     "text": [
      "Score:  0.3994238628805302 Feature:  time\n",
      "Score:  1.8495412336148886 Feature:  demand_30\n",
      "Score:  1.234401401951649 Feature:  demand_60\n",
      "Score:  0.16413352735066855 Feature:  temp_30\n",
      "Score:  0.16118659274367086 Feature:  temp_60\n",
      "Score:  0.03621268602821326 Feature:  is_weekday\n",
      "Score:  0.0031854879449761953 Feature:  day\n",
      "Score:  0.12161767794674372 Feature:  month\n"
     ]
    }
   ],
   "source": [
    "# Suppress annoying deprecation warnings\n",
    "filterwarnings(action='ignore', category=DeprecationWarning, module='sklearn')\n",
    "\n",
    "# Split into input and output dataframes\n",
    "Y = data['TOTALDEMAND']\n",
    "X = data.drop(columns = ['TEMPERATURE', 'TOTALDEMAND', 'DATETIME', 'date'])\n",
    "\n",
    "# Find the highest mutual information\n",
    "selector = SelectKBest(mutual_info_regression, k = 'all')\n",
    "X_train_new = selector.fit_transform(X, Y)  \n",
    "mask = selector.get_support()\n",
    "\n",
    "# Create a mask\n",
    "new_features = X.columns[mask]\n",
    "\n",
    "# Print features and their dependencies\n",
    "for i in range(len(new_features)):\n",
    "    print('Score: ', selector.scores_[i], 'Feature: ', new_features[i])"
   ]
  },
  {
   "cell_type": "markdown",
   "metadata": {},
   "source": [
    "From this, we can see that time, demand_30, demand_60, temp_30, temp_60, and month are all potentially useful in a model. temp_30 and temp_60 likely to be highly correlated and not useful to include both."
   ]
  },
  {
   "cell_type": "code",
   "execution_count": 3,
   "metadata": {},
   "outputs": [
    {
     "name": "stdout",
     "output_type": "stream",
     "text": [
      "Baseline Random Forest MAE:  56.636770682813356\n",
      "Parameters currently in use:\n",
      "\n",
      "{'bootstrap': True,\n",
      " 'ccp_alpha': 0.0,\n",
      " 'criterion': 'absolute_error',\n",
      " 'max_depth': None,\n",
      " 'max_features': 'auto',\n",
      " 'max_leaf_nodes': None,\n",
      " 'max_samples': None,\n",
      " 'min_impurity_decrease': 0.0,\n",
      " 'min_samples_leaf': 1,\n",
      " 'min_samples_split': 2,\n",
      " 'min_weight_fraction_leaf': 0.0,\n",
      " 'n_estimators': 100,\n",
      " 'n_jobs': None,\n",
      " 'oob_score': False,\n",
      " 'random_state': 20,\n",
      " 'verbose': 0,\n",
      " 'warm_start': False}\n"
     ]
    }
   ],
   "source": [
    "# Create features and target sets\n",
    "features = data[['time', 'demand_30', 'demand_60', 'temp_30']]\n",
    "target = data['TOTALDEMAND']\n",
    "\n",
    "# Convert to numpy arrays and split training/test data\n",
    "features_np = pd.DataFrame(features).to_numpy()\n",
    "target_np = np.ravel(pd.DataFrame(target).to_numpy())\n",
    "\n",
    "features_train, features_test, target_train, target_test = train_test_split(features_np,\n",
    "                                                                            target_np, random_state = STATE)\n",
    "\n",
    "# Implement Random Forest\n",
    "rnd_clf = RandomForestRegressor(random_state = STATE, criterion = 'absolute_error')\n",
    "rnd_clf.fit(features_train, target_train)\n",
    "\n",
    "# Print error\n",
    "rf_predicted = rnd_clf.predict(features_test)\n",
    "rf_MAE = mean_absolute_error(target_test, rf_predicted)\n",
    "print(\"Baseline Random Forest MAE: \", rf_MAE)\n",
    "\n",
    "# Look at parameters used by our current forest\n",
    "print('Parameters currently in use:\\n')\n",
    "pprint(rnd_clf.get_params())"
   ]
  },
  {
   "cell_type": "markdown",
   "metadata": {},
   "source": [
    "We have managed to eliminate most of the remaining inputs. We have; time, demand_30, demand_60 and temp_30 as useful to our model.\n",
    "\n",
    "Let's try random search of optimizing hyperparamters as a quick way to tell if our baseline model can perform any better."
   ]
  },
  {
   "cell_type": "code",
   "execution_count": 4,
   "metadata": {},
   "outputs": [
    {
     "name": "stdout",
     "output_type": "stream",
     "text": [
      "Fitting 3 folds for each of 3 candidates, totalling 9 fits\n"
     ]
    },
    {
     "name": "stderr",
     "output_type": "stream",
     "text": [
      "C:\\ProgramData\\Anaconda3\\lib\\site-packages\\sklearn\\ensemble\\_forest.py:407: FutureWarning: Criterion 'mae' was deprecated in v1.0 and will be removed in version 1.2. Use `criterion='absolute_error'` which is equivalent.\n",
      "  FutureWarning,\n"
     ]
    },
    {
     "name": "stdout",
     "output_type": "stream",
     "text": [
      "Baseline Random Forest MAE:  56.84776067323483\n",
      "Parameters currently in use:\n",
      "\n",
      "{'bootstrap': True,\n",
      " 'criterion': 'mae',\n",
      " 'max_depth': 15,\n",
      " 'max_features': 'auto',\n",
      " 'min_samples_leaf': 1,\n",
      " 'min_samples_split': 6,\n",
      " 'n_estimators': 120}\n"
     ]
    }
   ],
   "source": [
    "## Tune hyperparameters\n",
    "# Create the grid\n",
    "random_grid = {'n_estimators': list(range(80, 140, 20)),\n",
    "               'criterion': ['mae'],\n",
    "               'max_features': ['auto'],\n",
    "               'max_depth': list(range(10, 20, 5)),\n",
    "               'min_samples_split': list(range(2, 8, 2)),\n",
    "               'min_samples_leaf': list(range(1, 10, 2)),\n",
    "               'bootstrap': [True]}\n",
    "\n",
    "# Randomly saearch the grid for the best performance\n",
    "rf_random = RandomizedSearchCV(estimator = RandomForestRegressor(), param_distributions = random_grid, \n",
    "                               n_iter = 3, cv = 3, verbose = 2, random_state = STATE, n_jobs = -1)\n",
    "\n",
    "rf_random.fit(features_train, target_train)\n",
    "\n",
    "# Print error\n",
    "rf_random_pred = rf_random.best_estimator_.predict(features_test)\n",
    "rf_random_MAE = mean_absolute_error(target_test, rf_random_pred)\n",
    "print(\"Baseline Random Forest MAE: \", rf_random_MAE)\n",
    "\n",
    "# Look at parameters used by our current forest\n",
    "print('Parameters currently in use:\\n')\n",
    "pprint(rf_random.best_params_)"
   ]
  },
  {
   "cell_type": "markdown",
   "metadata": {},
   "source": [
    "This tuning is only a little better than our base model. No point in continuing hyperparpmeter tuning further, or in continuing with the model, unless we can think of other inputs. We will print some graphs to visualize model performances."
   ]
  },
  {
   "cell_type": "code",
   "execution_count": 5,
   "metadata": {},
   "outputs": [],
   "source": [
    "top_5_percent = []\n",
    "bottom_5_percent = []\n",
    "\n",
    "for x in range(len(features_test)):\n",
    "    estimator_predictions = []\n",
    "    for pred in rf_random.best_estimator_.estimators_:\n",
    "        estimator_predictions.append(pred.predict(features_test)[x])\n",
    "    top_5_percent.append(np.percentile(estimator_predictions, 95))\n",
    "    bottom_5_percent.append(np.percentile(estimator_predictions, 5))"
   ]
  },
  {
   "cell_type": "code",
   "execution_count": 6,
   "metadata": {},
   "outputs": [
    {
     "data": {
      "image/png": "[encoded data removed]",
      "text/plain": [
       "<Figure size 432x288 with 1 Axes>"
      ]
     },
     "metadata": {
      "needs_background": "light"
     },
     "output_type": "display_data"
    }
   ],
   "source": [
    "# Plot predicted vs actual without error bars\n",
    "plt.scatter(target_test, rf_predicted)\n",
    "plt.plot()\n",
    "plt.xlabel('Actual Consumption')\n",
    "plt.ylabel('Predicted Consumption')\n",
    "plt.show()"
   ]
  },
  {
   "cell_type": "code",
   "execution_count": 8,
   "metadata": {},
   "outputs": [],
   "source": [
    "df = pd.DataFrame(list(zip(target_test, rf_predicted, bottom_5_percent, top_5_percent)), columns = ['Actual_Values', 'Predicted_Values', \n",
    "                                                                                     'Lower_5%', 'Upper_5%'])\n",
    "df.to_csv(r'.\\conf_int_random_forest.csv', index = False)"
   ]
  },
  {
   "cell_type": "markdown",
   "metadata": {},
   "source": [
    "We will now start with SVM modelling"
   ]
  },
  {
   "cell_type": "code",
   "execution_count": 9,
   "metadata": {},
   "outputs": [
    {
     "name": "stdout",
     "output_type": "stream",
     "text": [
      "SVM MAE:  809.5782956432628\n",
      "Parameters currently in use:\n",
      "\n",
      "{'C': 1.0,\n",
      " 'cache_size': 200,\n",
      " 'coef0': 0.0,\n",
      " 'degree': 3,\n",
      " 'epsilon': 0.1,\n",
      " 'gamma': 'scale',\n",
      " 'kernel': 'rbf',\n",
      " 'max_iter': -1,\n",
      " 'shrinking': True,\n",
      " 'tol': 0.001,\n",
      " 'verbose': False}\n"
     ]
    }
   ],
   "source": [
    "# Implement baseline Support Vector Machine Regressor\n",
    "regressor = SVR(kernel = 'rbf')\n",
    "regressor.fit(features_train, target_train)\n",
    "\n",
    "# Print error\n",
    "svm_predicted = regressor.predict(features_test)\n",
    "svm_MAE = mean_absolute_error(target_test, svm_predicted)\n",
    "print(\"SVM MAE: \", svm_MAE)\n",
    "\n",
    "# Look at parameters used\n",
    "print('Parameters currently in use:\\n')\n",
    "pprint(regressor.get_params())"
   ]
  },
  {
   "cell_type": "markdown",
   "metadata": {},
   "source": [
    "The error from this SVM is a lot higher than that of the random forest. Hyperparameter tuning is unlikely to increase the model performance to a point where this model is useful."
   ]
  },
  {
   "cell_type": "code",
   "execution_count": null,
   "metadata": {},
   "outputs": [],
   "source": [
    "# Tune hyperparameters\n",
    "# Create the grid\n",
    "SVM_param_grid = {'C' : [0.1, 1, 10],\n",
    "                 'gamma' : [1, 0.1, 0.01],\n",
    "                 'kernel' : ['rbf']}\n",
    "\n",
    "# Make sure the model uses MAE as a score function\n",
    "scorer = make_scorer(mean_absolute_error, greater_is_better = False)\n",
    "\n",
    "# Randomly saearch the grid for the best performance\n",
    "svr_gs = GridSearchCV(SVR(), SVM_param_grid)#, scoring=scorer)\n",
    "svr_gs.fit(features_train, target_train)\n",
    "\n",
    "# Create predicted values\n",
    "grid_preds = svr_gs.predict(features_test)\n",
    "\n",
    "best_SVM_grid_error = mean_absolute_error(target_test, grid_preds)\n",
    "\n",
    "# Print error\n",
    "print(\"SVM Grid Search Tuning Error: \", best_SVM_grid_error)\n",
    "\n",
    "# Look at parameters used\n",
    "print('Parameters currently in use:\\n')\n",
    "pprint(svr_gs.get_params())"
   ]
  }
 ],
 "metadata": {
  "kernelspec": {
   "display_name": "Python 3",
   "language": "python",
   "name": "python3"
  },
  "language_info": {
   "codemirror_mode": {
    "name": "ipython",
    "version": 3
   },
   "file_extension": ".py",
   "mimetype": "text/x-python",
   "name": "python",
   "nbconvert_exporter": "python",
   "pygments_lexer": "ipython3",
   "version": "3.7.3"
  }
 },
 "nbformat": 4,
 "nbformat_minor": 1
}
