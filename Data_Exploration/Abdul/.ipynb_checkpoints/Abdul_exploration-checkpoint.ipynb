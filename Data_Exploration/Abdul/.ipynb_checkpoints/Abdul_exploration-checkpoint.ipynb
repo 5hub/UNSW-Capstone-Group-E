{
 "cells": [
  {
   "cell_type": "markdown",
   "id": "6c7ae11c",
   "metadata": {},
   "source": [
    "### import stuff"
   ]
  },
  {
   "cell_type": "code",
   "execution_count": 30,
   "id": "4342b8fa",
   "metadata": {},
   "outputs": [
    {
     "name": "stdout",
     "output_type": "stream",
     "text": [
      "C:\\Users\\aelha\\Documents\\Masters\\capstone\\UNSW-Capstone-Group-E\\Data_Exploration\\Abdul\n"
     ]
    }
   ],
   "source": [
    "import pandas as pd\n",
    "import sklearn\n",
    "from sklearn.neural_network import MLPRegressor\n",
    "\n",
    "## working dir coz i was lost\n",
    "import os\n",
    "cwd = os.getcwd()\n",
    "print(cwd)\n",
    "\n"
   ]
  },
  {
   "cell_type": "markdown",
   "id": "49a5fa3e",
   "metadata": {},
   "source": [
    "### open the data"
   ]
  },
  {
   "cell_type": "code",
   "execution_count": 31,
   "id": "00e84a57",
   "metadata": {},
   "outputs": [
    {
     "data": {
      "text/html": [
       "<div>\n",
       "<style scoped>\n",
       "    .dataframe tbody tr th:only-of-type {\n",
       "        vertical-align: middle;\n",
       "    }\n",
       "\n",
       "    .dataframe tbody tr th {\n",
       "        vertical-align: top;\n",
       "    }\n",
       "\n",
       "    .dataframe thead th {\n",
       "        text-align: right;\n",
       "    }\n",
       "</style>\n",
       "<table border=\"1\" class=\"dataframe\">\n",
       "  <thead>\n",
       "    <tr style=\"text-align: right;\">\n",
       "      <th></th>\n",
       "      <th>TOTALDEMAND</th>\n",
       "      <th>Date</th>\n",
       "      <th>Time</th>\n",
       "      <th>TEMPERATURE</th>\n",
       "    </tr>\n",
       "  </thead>\n",
       "  <tbody>\n",
       "    <tr>\n",
       "      <th>0</th>\n",
       "      <td>8038.00</td>\n",
       "      <td>1/1/2010</td>\n",
       "      <td>0:00</td>\n",
       "      <td>23.1</td>\n",
       "    </tr>\n",
       "    <tr>\n",
       "      <th>1</th>\n",
       "      <td>7809.31</td>\n",
       "      <td>1/1/2010</td>\n",
       "      <td>0:30</td>\n",
       "      <td>22.9</td>\n",
       "    </tr>\n",
       "    <tr>\n",
       "      <th>2</th>\n",
       "      <td>7483.69</td>\n",
       "      <td>1/1/2010</td>\n",
       "      <td>1:00</td>\n",
       "      <td>22.6</td>\n",
       "    </tr>\n",
       "    <tr>\n",
       "      <th>3</th>\n",
       "      <td>7117.23</td>\n",
       "      <td>1/1/2010</td>\n",
       "      <td>1:30</td>\n",
       "      <td>22.5</td>\n",
       "    </tr>\n",
       "    <tr>\n",
       "      <th>4</th>\n",
       "      <td>6812.03</td>\n",
       "      <td>1/1/2010</td>\n",
       "      <td>2:00</td>\n",
       "      <td>22.5</td>\n",
       "    </tr>\n",
       "  </tbody>\n",
       "</table>\n",
       "</div>"
      ],
      "text/plain": [
       "   TOTALDEMAND      Date  Time  TEMPERATURE\n",
       "0      8038.00  1/1/2010  0:00         23.1\n",
       "1      7809.31  1/1/2010  0:30         22.9\n",
       "2      7483.69  1/1/2010  1:00         22.6\n",
       "3      7117.23  1/1/2010  1:30         22.5\n",
       "4      6812.03  1/1/2010  2:00         22.5"
      ]
     },
     "execution_count": 31,
     "metadata": {},
     "output_type": "execute_result"
    }
   ],
   "source": [
    "nsw_temp_demand = pd.read_csv('../../report/Cleaned_Data.csv') \n",
    "nsw_temp_demand.head()"
   ]
  },
  {
   "cell_type": "markdown",
   "id": "1f032e43",
   "metadata": {},
   "source": [
    "### convert time to datetime object"
   ]
  },
  {
   "cell_type": "code",
   "execution_count": 32,
   "id": "0c0fe897",
   "metadata": {},
   "outputs": [
    {
     "data": {
      "text/plain": [
       "0        2010-01-01\n",
       "1        2010-01-01\n",
       "2        2010-01-01\n",
       "3        2010-01-01\n",
       "4        2010-01-01\n",
       "            ...    \n",
       "196507   2021-03-17\n",
       "196508   2021-03-17\n",
       "196509   2021-03-17\n",
       "196510   2021-03-17\n",
       "196511   2021-03-17\n",
       "Name: Date_object, Length: 196512, dtype: datetime64[ns]"
      ]
     },
     "execution_count": 32,
     "metadata": {},
     "output_type": "execute_result"
    }
   ],
   "source": [
    "from datetime import datetime\n",
    "\n",
    "nsw_temp_demand['Date_object'] = nsw_temp_demand['Date'].apply(pd.to_datetime, format='%d/%m/%Y')\n",
    "nsw_temp_demand['Date_object']"
   ]
  },
  {
   "cell_type": "markdown",
   "id": "1ff983ad",
   "metadata": {},
   "source": [
    "### make month col"
   ]
  },
  {
   "cell_type": "code",
   "execution_count": 35,
   "id": "0026a3ad",
   "metadata": {},
   "outputs": [
    {
     "data": {
      "text/plain": [
       "0         1\n",
       "1         1\n",
       "2         1\n",
       "3         1\n",
       "4         1\n",
       "         ..\n",
       "196507    3\n",
       "196508    3\n",
       "196509    3\n",
       "196510    3\n",
       "196511    3\n",
       "Name: month, Length: 196512, dtype: int64"
      ]
     },
     "execution_count": 35,
     "metadata": {},
     "output_type": "execute_result"
    }
   ],
   "source": [
    "nsw_temp_demand['month'] = nsw_temp_demand['Date_object'].apply(lambda x: x.month)\n",
    "\n",
    "nsw_temp_demand['month']"
   ]
  },
  {
   "cell_type": "markdown",
   "id": "bbeb6bd7",
   "metadata": {},
   "source": [
    "### make day col"
   ]
  },
  {
   "cell_type": "code",
   "execution_count": 36,
   "id": "9ddb5036",
   "metadata": {},
   "outputs": [
    {
     "data": {
      "text/plain": [
       "0          1\n",
       "1          1\n",
       "2          1\n",
       "3          1\n",
       "4          1\n",
       "          ..\n",
       "196507    17\n",
       "196508    17\n",
       "196509    17\n",
       "196510    17\n",
       "196511    17\n",
       "Name: day, Length: 196512, dtype: int64"
      ]
     },
     "execution_count": 36,
     "metadata": {},
     "output_type": "execute_result"
    }
   ],
   "source": [
    "nsw_temp_demand['day'] = nsw_temp_demand['Date_object'].apply(lambda x: x.day)\n",
    "\n",
    "nsw_temp_demand['day']"
   ]
  },
  {
   "cell_type": "markdown",
   "id": "3a866355",
   "metadata": {},
   "source": [
    "### convert the times into a number that represents it, we have 48 diff time values, easier for nns to deal with it this way I think, itll be 0-47 inclusive"
   ]
  },
  {
   "cell_type": "code",
   "execution_count": 43,
   "id": "748d0d28",
   "metadata": {},
   "outputs": [
    {
     "data": {
      "text/plain": [
       "0          0\n",
       "1          1\n",
       "2          2\n",
       "3          3\n",
       "4          4\n",
       "          ..\n",
       "196507    43\n",
       "196508    44\n",
       "196509    45\n",
       "196510    46\n",
       "196511    47\n",
       "Name: time_int, Length: 196512, dtype: int64"
      ]
     },
     "execution_count": 43,
     "metadata": {},
     "output_type": "execute_result"
    }
   ],
   "source": [
    "# pull first 48 which are all the possible times\n",
    "times = list(nsw_temp_demand['Time'][:48])\n",
    "times\n",
    "\n",
    "nsw_temp_demand['time_int'] = nsw_temp_demand['Time'].apply(lambda x: times.index(x))\n",
    "nsw_temp_demand['time_int']"
   ]
  },
  {
   "cell_type": "markdown",
   "id": "d0b340eb",
   "metadata": {},
   "source": [
    "### now just make a input df and output df for our nns"
   ]
  },
  {
   "cell_type": "code",
   "execution_count": 61,
   "id": "519467ec",
   "metadata": {},
   "outputs": [
    {
     "name": "stdout",
     "output_type": "stream",
     "text": [
      "        TEMPERATURE  day  month  time_int\n",
      "0              23.1    1      1         0\n",
      "1              22.9    1      1         1\n",
      "2              22.6    1      1         2\n",
      "3              22.5    1      1         3\n",
      "4              22.5    1      1         4\n",
      "...             ...  ...    ...       ...\n",
      "196507         19.7   17      3        43\n",
      "196508         19.7   17      3        44\n",
      "196509         19.5   17      3        45\n",
      "196510         19.1   17      3        46\n",
      "196511         18.8   17      3        47\n",
      "\n",
      "[196512 rows x 4 columns]\n",
      "0         8038.00\n",
      "1         7809.31\n",
      "2         7483.69\n",
      "3         7117.23\n",
      "4         6812.03\n",
      "           ...   \n",
      "196507    7503.12\n",
      "196508    7419.77\n",
      "196509    7417.91\n",
      "196510    7287.32\n",
      "196511    7172.39\n",
      "Name: TOTALDEMAND, Length: 196512, dtype: float64\n"
     ]
    },
    {
     "data": {
      "text/plain": [
       "10114.78"
      ]
     },
     "execution_count": 61,
     "metadata": {},
     "output_type": "execute_result"
    }
   ],
   "source": [
    "X = nsw_temp_demand[['TEMPERATURE', 'day', 'month', 'time_int']]\n",
    "Y = nsw_temp_demand['TOTALDEMAND']\n",
    "\n",
    "print(X)\n",
    "\n",
    "print(Y)"
   ]
  },
  {
   "cell_type": "markdown",
   "id": "47d4295d",
   "metadata": {},
   "source": [
    "### tain test split"
   ]
  },
  {
   "cell_type": "code",
   "execution_count": 62,
   "id": "0ceb9f2a",
   "metadata": {},
   "outputs": [],
   "source": [
    "from sklearn.model_selection import train_test_split\n",
    "\n",
    "\n",
    "X_train,X_test,Y_train,Y_test = train_test_split(X.index,Y,test_size=0.3)\n",
    "\n",
    "X_train = X.iloc[X_train] \n",
    "X_test = X.iloc[X_test] "
   ]
  },
  {
   "cell_type": "markdown",
   "id": "116877ca",
   "metadata": {},
   "source": [
    "### build, train, evaluate model"
   ]
  },
  {
   "cell_type": "markdown",
   "id": "39ec9812",
   "metadata": {},
   "source": [
    "one off"
   ]
  },
  {
   "cell_type": "code",
   "execution_count": 66,
   "id": "32e2abab",
   "metadata": {},
   "outputs": [
    {
     "name": "stderr",
     "output_type": "stream",
     "text": [
      "C:\\Users\\aelha\\AppData\\Roaming\\Python\\Python310\\site-packages\\sklearn\\neural_network\\_multilayer_perceptron.py:692: ConvergenceWarning: Stochastic Optimizer: Maximum iterations (500) reached and the optimization hasn't converged yet.\n",
      "  warnings.warn(\n"
     ]
    },
    {
     "data": {
      "text/plain": [
       "764.0496644716637"
      ]
     },
     "execution_count": 66,
     "metadata": {},
     "output_type": "execute_result"
    }
   ],
   "source": [
    "# simple mostly default, but relu because regressing\n",
    "model = MLPRegressor(hidden_layer_sizes=(1000, 1000),max_iter=500, activation='relu')\n",
    "\n",
    "# train\n",
    "model.fit(X_train, Y_train)\n",
    "\n",
    "# predict\n",
    "predicted = model.predict(X_test)\n",
    "\n",
    "from sklearn.metrics import mean_squared_error\n",
    "\n",
    "mean_squared_error(Y_test, predicted, squared=False)"
   ]
  },
  {
   "cell_type": "markdown",
   "id": "ffa7ac26",
   "metadata": {},
   "source": [
    "cross val"
   ]
  },
  {
   "cell_type": "code",
   "execution_count": null,
   "id": "1526f9d2",
   "metadata": {},
   "outputs": [],
   "source": [
    "from sklearn.model_selection import cross_val_score\n",
    "# simple mostly default, but tanh\n",
    "model = MLPRegressor(max_iter=500, activation='relu')\n",
    "\n",
    "cross_val_score(model, X_train, Y_train, cv=5, scoring='neg_mean_squared_error')\n",
    "\n"
   ]
  }
 ],
 "metadata": {
  "kernelspec": {
   "display_name": "Python 3 (ipykernel)",
   "language": "python",
   "name": "python3"
  },
  "language_info": {
   "codemirror_mode": {
    "name": "ipython",
    "version": 3
   },
   "file_extension": ".py",
   "mimetype": "text/x-python",
   "name": "python",
   "nbconvert_exporter": "python",
   "pygments_lexer": "ipython3",
   "version": "3.8.3"
  }
 },
 "nbformat": 4,
 "nbformat_minor": 5
}
